{
 "cells": [
  {
   "cell_type": "markdown",
   "metadata": {},
   "source": [
    "# ENGIE - GEMS \n",
    "## Evaluación de las habilidades de gestión de datos y digitalización. Conciliación datos\n",
    "\n",
    "---\n",
    "Prueba práctica del proceso de selección desarrollada por Alba Durán Merinero"
   ]
  },
  {
   "cell_type": "markdown",
   "metadata": {},
   "source": [
    "## 1. Configuración de paths y librerías "
   ]
  },
  {
   "cell_type": "code",
   "execution_count": 1,
   "metadata": {},
   "outputs": [],
   "source": [
    "import funciones_caso_practico as f\n",
    "import os\n",
    "\n",
    "main_path = \"datos/\" \n",
    "facturas_path = main_path + \"facturas_agiekey.xlsx\"\n",
    "mapping_path = main_path + \"Mapping.xlsx\"\n",
    "deals_path = main_path + \"Deals_Marzo_2024/\""
   ]
  },
  {
   "cell_type": "markdown",
   "metadata": {},
   "source": [
    "## 2. Configuración de parámetros de la conciliación \n",
    "\n",
    "Es necesario establecer los criterios del análisis a llevar a cabo. Se necesita informar del Año, Mes, Origen y Servicio Facturado de las facturas a conciliar.\n",
    "Toda la información debe aportarse en formato string (texto entrecomillado)\n",
    "\n",
    "**IMPORTANTE:**\n",
    "En este notebook se han configurado los parámetros para la reproducción de los resultados del apartado 2a."
   ]
  },
  {
   "cell_type": "code",
   "execution_count": 2,
   "metadata": {},
   "outputs": [],
   "source": [
    "#PARAMETROS PARA REPRODUCIR LOS RESULTADOS DEL APARTADO 2a\n",
    "#Fecha\n",
    "ano ='2024'\n",
    "mes = '03'\n",
    "#Origen y Servicio Facturado a conciliar, expresado igual que en el fichero Facturas_agiekey\n",
    "origen = 'C.I. Almería'\n",
    "servicio_facturado = 'Entrada PVB'"
   ]
  },
  {
   "cell_type": "markdown",
   "metadata": {},
   "source": [
    "## 3. Fichero facturas "
   ]
  },
  {
   "cell_type": "code",
   "execution_count": 3,
   "metadata": {},
   "outputs": [
    {
     "name": "stdout",
     "output_type": "stream",
     "text": [
      "Número total de facturas: 14\n"
     ]
    }
   ],
   "source": [
    "#Carga del fichero de facturas\n",
    "facturas = f.carga_xlsx(facturas_path)\n",
    "print('Número total de facturas: ' + str(facturas.shape[0]))"
   ]
  },
  {
   "cell_type": "code",
   "execution_count": 4,
   "metadata": {},
   "outputs": [
    {
     "data": {
      "text/html": [
       "<div>\n",
       "<style scoped>\n",
       "    .dataframe tbody tr th:only-of-type {\n",
       "        vertical-align: middle;\n",
       "    }\n",
       "\n",
       "    .dataframe tbody tr th {\n",
       "        vertical-align: top;\n",
       "    }\n",
       "\n",
       "    .dataframe thead th {\n",
       "        text-align: right;\n",
       "    }\n",
       "</style>\n",
       "<table border=\"1\" class=\"dataframe\">\n",
       "  <thead>\n",
       "    <tr style=\"text-align: right;\">\n",
       "      <th></th>\n",
       "      <th>NumeroFactura</th>\n",
       "      <th>Emisor</th>\n",
       "      <th>RazonSocialEmisor</th>\n",
       "      <th>DepEmisor</th>\n",
       "      <th>Receptor</th>\n",
       "      <th>RazonSocialReceptor</th>\n",
       "      <th>DepReceptor</th>\n",
       "      <th>FechaFactura</th>\n",
       "      <th>Importe</th>\n",
       "      <th>Moneda</th>\n",
       "      <th>Estado</th>\n",
       "      <th>FechaEstado</th>\n",
       "      <th>FechaRegistro</th>\n",
       "      <th>Destino</th>\n",
       "      <th>Contrato</th>\n",
       "      <th>Origen</th>\n",
       "      <th>ServicioFacturado</th>\n",
       "      <th>¿Verificada por BO?</th>\n",
       "      <th>Observaciones</th>\n",
       "    </tr>\n",
       "  </thead>\n",
       "  <tbody>\n",
       "    <tr>\n",
       "      <th>0</th>\n",
       "      <td>2024264672</td>\n",
       "      <td>ESA86484292</td>\n",
       "      <td>ENAGAS GTS, SAU</td>\n",
       "      <td>60</td>\n",
       "      <td>ESB82508441</td>\n",
       "      <td>ENGIE ESPAÑA SLU</td>\n",
       "      <td>NaN</td>\n",
       "      <td>4/3/24</td>\n",
       "      <td>123195.13</td>\n",
       "      <td>EUR</td>\n",
       "      <td>Recibida</td>\n",
       "      <td>4/3/24</td>\n",
       "      <td>4/3/24</td>\n",
       "      <td>eMail</td>\n",
       "      <td>344991</td>\n",
       "      <td>AVB</td>\n",
       "      <td>Servicio agregado AVB</td>\n",
       "      <td>NaN</td>\n",
       "      <td>NaN</td>\n",
       "    </tr>\n",
       "    <tr>\n",
       "      <th>1</th>\n",
       "      <td>2024264671</td>\n",
       "      <td>ESA86484292</td>\n",
       "      <td>ENAGAS GTS, SAU</td>\n",
       "      <td>60</td>\n",
       "      <td>ESB82508441</td>\n",
       "      <td>ENGIE ESPAÑA SLU</td>\n",
       "      <td>NaN</td>\n",
       "      <td>4/3/24</td>\n",
       "      <td>111963.62</td>\n",
       "      <td>EUR</td>\n",
       "      <td>Recibida</td>\n",
       "      <td>4/3/24</td>\n",
       "      <td>4/3/24</td>\n",
       "      <td>eMail</td>\n",
       "      <td>344991</td>\n",
       "      <td>AVB</td>\n",
       "      <td>Servicio agregado AVB</td>\n",
       "      <td>NaN</td>\n",
       "      <td>NaN</td>\n",
       "    </tr>\n",
       "  </tbody>\n",
       "</table>\n",
       "</div>"
      ],
      "text/plain": [
       "  NumeroFactura       Emisor RazonSocialEmisor DepEmisor     Receptor  \\\n",
       "0    2024264672  ESA86484292   ENAGAS GTS, SAU        60  ESB82508441   \n",
       "1    2024264671  ESA86484292   ENAGAS GTS, SAU        60  ESB82508441   \n",
       "\n",
       "  RazonSocialReceptor DepReceptor FechaFactura    Importe Moneda    Estado  \\\n",
       "0    ENGIE ESPAÑA SLU         NaN       4/3/24  123195.13    EUR  Recibida   \n",
       "1    ENGIE ESPAÑA SLU         NaN       4/3/24  111963.62    EUR  Recibida   \n",
       "\n",
       "  FechaEstado FechaRegistro Destino Contrato Origen      ServicioFacturado  \\\n",
       "0      4/3/24        4/3/24   eMail   344991    AVB  Servicio agregado AVB   \n",
       "1      4/3/24        4/3/24   eMail   344991    AVB  Servicio agregado AVB   \n",
       "\n",
       "  ¿Verificada por BO? Observaciones  \n",
       "0                 NaN           NaN  \n",
       "1                 NaN           NaN  "
      ]
     },
     "execution_count": 4,
     "metadata": {},
     "output_type": "execute_result"
    }
   ],
   "source": [
    "#Visualización df facturas inicial\n",
    "facturas.head(2)"
   ]
  },
  {
   "cell_type": "markdown",
   "metadata": {},
   "source": [
    "### 3.1 Filtrado de facturas"
   ]
  },
  {
   "cell_type": "code",
   "execution_count": 5,
   "metadata": {},
   "outputs": [
    {
     "name": "stdout",
     "output_type": "stream",
     "text": [
      "Número de facturas correspondientes al Origen y Servicio Facturado: 1\n"
     ]
    }
   ],
   "source": [
    "#Filtro de Facturas según el Origen y Servicio Facturado a conciliar\n",
    "facturas = facturas[(facturas['Origen'] == origen) & (facturas['ServicioFacturado'] == servicio_facturado)]\n",
    "print('Número de facturas correspondientes al Origen y Servicio Facturado: ' + str(facturas.shape[0]))"
   ]
  },
  {
   "cell_type": "code",
   "execution_count": 6,
   "metadata": {},
   "outputs": [
    {
     "data": {
      "text/html": [
       "<div>\n",
       "<style scoped>\n",
       "    .dataframe tbody tr th:only-of-type {\n",
       "        vertical-align: middle;\n",
       "    }\n",
       "\n",
       "    .dataframe tbody tr th {\n",
       "        vertical-align: top;\n",
       "    }\n",
       "\n",
       "    .dataframe thead th {\n",
       "        text-align: right;\n",
       "    }\n",
       "</style>\n",
       "<table border=\"1\" class=\"dataframe\">\n",
       "  <thead>\n",
       "    <tr style=\"text-align: right;\">\n",
       "      <th></th>\n",
       "      <th>NumeroFactura</th>\n",
       "      <th>Emisor</th>\n",
       "      <th>RazonSocialEmisor</th>\n",
       "      <th>DepEmisor</th>\n",
       "      <th>Receptor</th>\n",
       "      <th>RazonSocialReceptor</th>\n",
       "      <th>DepReceptor</th>\n",
       "      <th>FechaFactura</th>\n",
       "      <th>Importe</th>\n",
       "      <th>Moneda</th>\n",
       "      <th>Estado</th>\n",
       "      <th>FechaEstado</th>\n",
       "      <th>FechaRegistro</th>\n",
       "      <th>Destino</th>\n",
       "      <th>Contrato</th>\n",
       "      <th>Origen</th>\n",
       "      <th>ServicioFacturado</th>\n",
       "      <th>¿Verificada por BO?</th>\n",
       "      <th>Observaciones</th>\n",
       "    </tr>\n",
       "  </thead>\n",
       "  <tbody>\n",
       "    <tr>\n",
       "      <th>2</th>\n",
       "      <td>2324004231</td>\n",
       "      <td>ESA86484334</td>\n",
       "      <td>ENAGAS TRANSPORTE, SAU</td>\n",
       "      <td>NaN</td>\n",
       "      <td>ESB82508441</td>\n",
       "      <td>ENGIE ESPAÑA SLU</td>\n",
       "      <td>NaN</td>\n",
       "      <td>6/3/24</td>\n",
       "      <td>503763.47</td>\n",
       "      <td>EUR</td>\n",
       "      <td>Recibida</td>\n",
       "      <td>6/3/24</td>\n",
       "      <td>6/3/24</td>\n",
       "      <td>eMail</td>\n",
       "      <td>300289985</td>\n",
       "      <td>C.I. Almería</td>\n",
       "      <td>Entrada PVB</td>\n",
       "      <td>NaN</td>\n",
       "      <td>NaN</td>\n",
       "    </tr>\n",
       "  </tbody>\n",
       "</table>\n",
       "</div>"
      ],
      "text/plain": [
       "  NumeroFactura       Emisor       RazonSocialEmisor DepEmisor     Receptor  \\\n",
       "2    2324004231  ESA86484334  ENAGAS TRANSPORTE, SAU       NaN  ESB82508441   \n",
       "\n",
       "  RazonSocialReceptor DepReceptor FechaFactura    Importe Moneda    Estado  \\\n",
       "2    ENGIE ESPAÑA SLU         NaN       6/3/24  503763.47    EUR  Recibida   \n",
       "\n",
       "  FechaEstado FechaRegistro Destino   Contrato        Origen  \\\n",
       "2      6/3/24        6/3/24   eMail  300289985  C.I. Almería   \n",
       "\n",
       "  ServicioFacturado ¿Verificada por BO? Observaciones  \n",
       "2       Entrada PVB                 NaN           NaN  "
      ]
     },
     "execution_count": 6,
     "metadata": {},
     "output_type": "execute_result"
    }
   ],
   "source": [
    "#Visualización df facturas filtrando el concepto de Origen y Servicio Facturado correspondiente\n",
    "facturas.head(2)"
   ]
  },
  {
   "cell_type": "markdown",
   "metadata": {},
   "source": [
    "### 3.2 Resumen de facturas"
   ]
  },
  {
   "cell_type": "code",
   "execution_count": 7,
   "metadata": {},
   "outputs": [
    {
     "name": "stdout",
     "output_type": "stream",
     "text": [
      "Número de facturas correspondientes al Origen y Servicio Facturado: 1\n",
      "Número de clientes: 1\n",
      "Facturación global del concepto: 503763.47EUR\n"
     ]
    }
   ],
   "source": [
    "#Resumen de facturas\n",
    "resumen_fact = f.global_info(facturas)\n",
    "\n",
    "#Prints de la información\n",
    "print('Número de facturas correspondientes al Origen y Servicio Facturado: ' + str(resumen_fact['NumeroFacturasValidas'][0]))\n",
    "print('Número de clientes: ' + str(resumen_fact['NumeroClientes'][0]))\n",
    "print('Facturación global del concepto: ' + str(resumen_fact['FacturacionTotal'][0]))"
   ]
  },
  {
   "cell_type": "markdown",
   "metadata": {},
   "source": [
    "## 4. Carga del fichero de mapping "
   ]
  },
  {
   "cell_type": "code",
   "execution_count": 8,
   "metadata": {},
   "outputs": [
    {
     "data": {
      "text/html": [
       "<div>\n",
       "<style scoped>\n",
       "    .dataframe tbody tr th:only-of-type {\n",
       "        vertical-align: middle;\n",
       "    }\n",
       "\n",
       "    .dataframe tbody tr th {\n",
       "        vertical-align: top;\n",
       "    }\n",
       "\n",
       "    .dataframe thead th {\n",
       "        text-align: right;\n",
       "    }\n",
       "</style>\n",
       "<table border=\"1\" class=\"dataframe\">\n",
       "  <thead>\n",
       "    <tr style=\"text-align: right;\">\n",
       "      <th></th>\n",
       "      <th>Origen</th>\n",
       "      <th>Servicio facturado</th>\n",
       "      <th>Portfolio</th>\n",
       "      <th>Commodity</th>\n",
       "      <th>DealType</th>\n",
       "    </tr>\n",
       "  </thead>\n",
       "  <tbody>\n",
       "    <tr>\n",
       "      <th>0</th>\n",
       "      <td>C.I. Almería</td>\n",
       "      <td>Entrada PVB</td>\n",
       "      <td>MEDG2</td>\n",
       "      <td>IAC</td>\n",
       "      <td>GETRA</td>\n",
       "    </tr>\n",
       "    <tr>\n",
       "      <th>1</th>\n",
       "      <td>TVB</td>\n",
       "      <td>PLANTAS</td>\n",
       "      <td>JVLNG</td>\n",
       "      <td>ICC</td>\n",
       "      <td>GETRA</td>\n",
       "    </tr>\n",
       "  </tbody>\n",
       "</table>\n",
       "</div>"
      ],
      "text/plain": [
       "         Origen Servicio facturado Portfolio Commodity DealType\n",
       "0  C.I. Almería        Entrada PVB     MEDG2       IAC    GETRA\n",
       "1           TVB            PLANTAS     JVLNG       ICC    GETRA"
      ]
     },
     "execution_count": 8,
     "metadata": {},
     "output_type": "execute_result"
    }
   ],
   "source": [
    "#Carga fichero mapping\n",
    "mapping = f.carga_xlsx(mapping_path)\n",
    "#visualización df mapping inicial \n",
    "mapping.head(2)"
   ]
  },
  {
   "cell_type": "code",
   "execution_count": 9,
   "metadata": {},
   "outputs": [
    {
     "data": {
      "text/html": [
       "<div>\n",
       "<style scoped>\n",
       "    .dataframe tbody tr th:only-of-type {\n",
       "        vertical-align: middle;\n",
       "    }\n",
       "\n",
       "    .dataframe tbody tr th {\n",
       "        vertical-align: top;\n",
       "    }\n",
       "\n",
       "    .dataframe thead th {\n",
       "        text-align: right;\n",
       "    }\n",
       "</style>\n",
       "<table border=\"1\" class=\"dataframe\">\n",
       "  <thead>\n",
       "    <tr style=\"text-align: right;\">\n",
       "      <th></th>\n",
       "      <th>Origen</th>\n",
       "      <th>Servicio facturado</th>\n",
       "      <th>Portfolio</th>\n",
       "      <th>Commodity</th>\n",
       "      <th>DealType</th>\n",
       "      <th>FileName</th>\n",
       "    </tr>\n",
       "  </thead>\n",
       "  <tbody>\n",
       "    <tr>\n",
       "      <th>0</th>\n",
       "      <td>C.I. Almería</td>\n",
       "      <td>Entrada PVB</td>\n",
       "      <td>MEDG2</td>\n",
       "      <td>IAC</td>\n",
       "      <td>GETRA</td>\n",
       "      <td>MEDG2_IAC_GETRA</td>\n",
       "    </tr>\n",
       "  </tbody>\n",
       "</table>\n",
       "</div>"
      ],
      "text/plain": [
       "         Origen Servicio facturado Portfolio Commodity DealType  \\\n",
       "0  C.I. Almería        Entrada PVB     MEDG2       IAC    GETRA   \n",
       "\n",
       "          FileName  \n",
       "0  MEDG2_IAC_GETRA  "
      ]
     },
     "execution_count": 9,
     "metadata": {},
     "output_type": "execute_result"
    }
   ],
   "source": [
    "#Filtro de dataset Mapping según el Origen y Servicio Facturado a conciliar en Facturas\n",
    "mapping = mapping[(mapping['Origen'] == origen) & (mapping['Servicio facturado'] == servicio_facturado)]\n",
    "#Creación nueva columna\n",
    "mapping = f.combcols(mapping, 'FileName', ['Portfolio','Commodity','DealType'])\n",
    "#En caso de filas 100% duplicadas se mantiene solo la primera\n",
    "mapping = mapping.drop_duplicates(keep='first')\n",
    "#Visualización del df mapping filtrando el concepto de Origen y Servicio Facturado correspondiente\n",
    "mapping.head(2)"
   ]
  },
  {
   "cell_type": "markdown",
   "metadata": {},
   "source": [
    "### 4.1 Selección a través del mapping del archivo de Deals corresponiente para conciliar las facturas"
   ]
  },
  {
   "cell_type": "code",
   "execution_count": 10,
   "metadata": {},
   "outputs": [],
   "source": [
    "#Lista de archivos que coinciden según el origen\n",
    "file_names = list(mapping['FileName'])\n",
    "#Obtencion de lista de archivos en el directorio de los deals\n",
    "list_files = os.listdir(deals_path)\n",
    "#Filtro de archivos que correspondientes\n",
    "filtered_files = [file for file in list_files if (file.startswith(file_names[0])) & (file.endswith('.xlsx'))]\n",
    "#Construcción del path\n",
    "fil_file_path = deals_path + filtered_files[0]\n"
   ]
  },
  {
   "cell_type": "markdown",
   "metadata": {},
   "source": [
    "## 5. Carga fichero de deals"
   ]
  },
  {
   "cell_type": "code",
   "execution_count": 11,
   "metadata": {},
   "outputs": [
    {
     "name": "stdout",
     "output_type": "stream",
     "text": [
      "Numero total de deals: 2\n"
     ]
    },
    {
     "data": {
      "text/html": [
       "<div>\n",
       "<style scoped>\n",
       "    .dataframe tbody tr th:only-of-type {\n",
       "        vertical-align: middle;\n",
       "    }\n",
       "\n",
       "    .dataframe tbody tr th {\n",
       "        vertical-align: top;\n",
       "    }\n",
       "\n",
       "    .dataframe thead th {\n",
       "        text-align: right;\n",
       "    }\n",
       "</style>\n",
       "<table border=\"1\" class=\"dataframe\">\n",
       "  <thead>\n",
       "    <tr style=\"text-align: right;\">\n",
       "      <th></th>\n",
       "      <th>Unnamed: 0</th>\n",
       "      <th>AggregatedKey</th>\n",
       "      <th>ApplicationPeriod</th>\n",
       "      <th>AuctionType</th>\n",
       "      <th>BookingSource</th>\n",
       "      <th>BOValidated</th>\n",
       "      <th>BOValidationDate</th>\n",
       "      <th>BOValidator</th>\n",
       "      <th>CancelsDealId</th>\n",
       "      <th>Capacity</th>\n",
       "      <th>...</th>\n",
       "      <th>TraderCode</th>\n",
       "      <th>TraderName</th>\n",
       "      <th>TradeType</th>\n",
       "      <th>TradingPlace</th>\n",
       "      <th>TradingSystem</th>\n",
       "      <th>Underlying</th>\n",
       "      <th>UnwindStatus</th>\n",
       "      <th>VAI</th>\n",
       "      <th>VersionCreationDate</th>\n",
       "      <th>VersionUpdateDate</th>\n",
       "    </tr>\n",
       "  </thead>\n",
       "  <tbody>\n",
       "    <tr>\n",
       "      <th>0</th>\n",
       "      <td>0</td>\n",
       "      <td>37591650,2024/05/17 09:15:39,GETRA</td>\n",
       "      <td>CAL24</td>\n",
       "      <td>NaN</td>\n",
       "      <td>MET</td>\n",
       "      <td>True</td>\n",
       "      <td>2024-03-11T13:26:05+01:00</td>\n",
       "      <td>GGH410</td>\n",
       "      <td>0</td>\n",
       "      <td>31500</td>\n",
       "      <td>...</td>\n",
       "      <td>D12\\EF2015</td>\n",
       "      <td>AUBIN Baptiste</td>\n",
       "      <td>Market</td>\n",
       "      <td>MA</td>\n",
       "      <td>ME</td>\n",
       "      <td>IAC</td>\n",
       "      <td>Normal</td>\n",
       "      <td>0</td>\n",
       "      <td>2024-05-17T09:15:39+02:00</td>\n",
       "      <td>9999-01-01T00:00:00+01:00</td>\n",
       "    </tr>\n",
       "    <tr>\n",
       "      <th>1</th>\n",
       "      <td>1</td>\n",
       "      <td>37056084,2024/02/09 14:35:58,GETRA</td>\n",
       "      <td>CAL23</td>\n",
       "      <td>NaN</td>\n",
       "      <td>MET</td>\n",
       "      <td>True</td>\n",
       "      <td>2024-02-09T14:35:58+01:00</td>\n",
       "      <td>GGH410</td>\n",
       "      <td>0</td>\n",
       "      <td>31500</td>\n",
       "      <td>...</td>\n",
       "      <td>D12\\EF2015</td>\n",
       "      <td>AUBIN Baptiste</td>\n",
       "      <td>Market</td>\n",
       "      <td>MA</td>\n",
       "      <td>ME</td>\n",
       "      <td>IAC</td>\n",
       "      <td>Normal</td>\n",
       "      <td>0</td>\n",
       "      <td>2024-02-09T14:35:58+01:00</td>\n",
       "      <td>9999-01-01T00:00:00+01:00</td>\n",
       "    </tr>\n",
       "  </tbody>\n",
       "</table>\n",
       "<p>2 rows × 86 columns</p>\n",
       "</div>"
      ],
      "text/plain": [
       "  Unnamed: 0                       AggregatedKey ApplicationPeriod  \\\n",
       "0          0  37591650,2024/05/17 09:15:39,GETRA             CAL24   \n",
       "1          1  37056084,2024/02/09 14:35:58,GETRA             CAL23   \n",
       "\n",
       "  AuctionType BookingSource BOValidated           BOValidationDate  \\\n",
       "0         NaN           MET        True  2024-03-11T13:26:05+01:00   \n",
       "1         NaN           MET        True  2024-02-09T14:35:58+01:00   \n",
       "\n",
       "  BOValidator CancelsDealId Capacity  ...  TraderCode      TraderName  \\\n",
       "0      GGH410             0    31500  ...  D12\\EF2015  AUBIN Baptiste   \n",
       "1      GGH410             0    31500  ...  D12\\EF2015  AUBIN Baptiste   \n",
       "\n",
       "  TradeType TradingPlace TradingSystem Underlying UnwindStatus VAI  \\\n",
       "0    Market           MA            ME        IAC       Normal   0   \n",
       "1    Market           MA            ME        IAC       Normal   0   \n",
       "\n",
       "         VersionCreationDate          VersionUpdateDate  \n",
       "0  2024-05-17T09:15:39+02:00  9999-01-01T00:00:00+01:00  \n",
       "1  2024-02-09T14:35:58+01:00  9999-01-01T00:00:00+01:00  \n",
       "\n",
       "[2 rows x 86 columns]"
      ]
     },
     "execution_count": 11,
     "metadata": {},
     "output_type": "execute_result"
    }
   ],
   "source": [
    "deals = f.carga_xlsx(fil_file_path)\n",
    "print('Numero total de deals: '+ str(deals.shape[0]))\n",
    "#Visualización df deals inicial\n",
    "deals.head(2)"
   ]
  },
  {
   "cell_type": "markdown",
   "metadata": {},
   "source": [
    "### 5.1 Selección de Deals del año de estudio"
   ]
  },
  {
   "cell_type": "code",
   "execution_count": 12,
   "metadata": {},
   "outputs": [
    {
     "name": "stdout",
     "output_type": "stream",
     "text": [
      "Numero de Deals del año de estudio: 1\n"
     ]
    },
    {
     "data": {
      "text/html": [
       "<div>\n",
       "<style scoped>\n",
       "    .dataframe tbody tr th:only-of-type {\n",
       "        vertical-align: middle;\n",
       "    }\n",
       "\n",
       "    .dataframe tbody tr th {\n",
       "        vertical-align: top;\n",
       "    }\n",
       "\n",
       "    .dataframe thead th {\n",
       "        text-align: right;\n",
       "    }\n",
       "</style>\n",
       "<table border=\"1\" class=\"dataframe\">\n",
       "  <thead>\n",
       "    <tr style=\"text-align: right;\">\n",
       "      <th></th>\n",
       "      <th>Unnamed: 0</th>\n",
       "      <th>AggregatedKey</th>\n",
       "      <th>ApplicationPeriod</th>\n",
       "      <th>AuctionType</th>\n",
       "      <th>BookingSource</th>\n",
       "      <th>BOValidated</th>\n",
       "      <th>BOValidationDate</th>\n",
       "      <th>BOValidator</th>\n",
       "      <th>CancelsDealId</th>\n",
       "      <th>Capacity</th>\n",
       "      <th>...</th>\n",
       "      <th>TraderCode</th>\n",
       "      <th>TraderName</th>\n",
       "      <th>TradeType</th>\n",
       "      <th>TradingPlace</th>\n",
       "      <th>TradingSystem</th>\n",
       "      <th>Underlying</th>\n",
       "      <th>UnwindStatus</th>\n",
       "      <th>VAI</th>\n",
       "      <th>VersionCreationDate</th>\n",
       "      <th>VersionUpdateDate</th>\n",
       "    </tr>\n",
       "  </thead>\n",
       "  <tbody>\n",
       "    <tr>\n",
       "      <th>0</th>\n",
       "      <td>0</td>\n",
       "      <td>37591650,2024/05/17 09:15:39,GETRA</td>\n",
       "      <td>CAL24</td>\n",
       "      <td>NaN</td>\n",
       "      <td>MET</td>\n",
       "      <td>True</td>\n",
       "      <td>2024-03-11T13:26:05+01:00</td>\n",
       "      <td>GGH410</td>\n",
       "      <td>0</td>\n",
       "      <td>31500</td>\n",
       "      <td>...</td>\n",
       "      <td>D12\\EF2015</td>\n",
       "      <td>AUBIN Baptiste</td>\n",
       "      <td>Market</td>\n",
       "      <td>MA</td>\n",
       "      <td>ME</td>\n",
       "      <td>IAC</td>\n",
       "      <td>Normal</td>\n",
       "      <td>0</td>\n",
       "      <td>2024-05-17T09:15:39+02:00</td>\n",
       "      <td>9999-01-01T00:00:00+01:00</td>\n",
       "    </tr>\n",
       "  </tbody>\n",
       "</table>\n",
       "<p>1 rows × 86 columns</p>\n",
       "</div>"
      ],
      "text/plain": [
       "  Unnamed: 0                       AggregatedKey ApplicationPeriod  \\\n",
       "0          0  37591650,2024/05/17 09:15:39,GETRA             CAL24   \n",
       "\n",
       "  AuctionType BookingSource BOValidated           BOValidationDate  \\\n",
       "0         NaN           MET        True  2024-03-11T13:26:05+01:00   \n",
       "\n",
       "  BOValidator CancelsDealId Capacity  ...  TraderCode      TraderName  \\\n",
       "0      GGH410             0    31500  ...  D12\\EF2015  AUBIN Baptiste   \n",
       "\n",
       "  TradeType TradingPlace TradingSystem Underlying UnwindStatus VAI  \\\n",
       "0    Market           MA            ME        IAC       Normal   0   \n",
       "\n",
       "         VersionCreationDate          VersionUpdateDate  \n",
       "0  2024-05-17T09:15:39+02:00  9999-01-01T00:00:00+01:00  \n",
       "\n",
       "[1 rows x 86 columns]"
      ]
     },
     "execution_count": 12,
     "metadata": {},
     "output_type": "execute_result"
    }
   ],
   "source": [
    "#Filtramos los deals correspondientes al año actual\n",
    "deals['StartDeliveryDate'] = deals['StartDeliveryDate'].astype(str)\n",
    "deals['EndDeliveryDate'] = deals['EndDeliveryDate'].astype(str)\n",
    "deals = deals[(deals['StartDeliveryDate'].apply(lambda x: x.startswith(ano)) & (deals['EndDeliveryDate'].apply(lambda x: x.startswith(ano))))]\n",
    "print('Numero de Deals del año de estudio: ' + str(deals.shape[0]))\n",
    "#Visualización de df deals filtrando los datos del año de estudio\n",
    "deals.head(2)"
   ]
  },
  {
   "cell_type": "markdown",
   "metadata": {},
   "source": [
    "### 5.2 Análisis de los sub-flows\n",
    "La información de cada uno de los flows que se engloban en un Deal, se puede obtener del campo ['Flow'], el cual se encuentra en formato json"
   ]
  },
  {
   "cell_type": "code",
   "execution_count": 13,
   "metadata": {},
   "outputs": [
    {
     "name": "stdout",
     "output_type": "stream",
     "text": [
      "Generando dataframe para deal:  37591650\n",
      "Concatenando dataframes generados...\n",
      "Número total de sub-flows: 24\n"
     ]
    },
    {
     "data": {
      "text/html": [
       "<div>\n",
       "<style scoped>\n",
       "    .dataframe tbody tr th:only-of-type {\n",
       "        vertical-align: middle;\n",
       "    }\n",
       "\n",
       "    .dataframe tbody tr th {\n",
       "        vertical-align: top;\n",
       "    }\n",
       "\n",
       "    .dataframe thead th {\n",
       "        text-align: right;\n",
       "    }\n",
       "</style>\n",
       "<table border=\"1\" class=\"dataframe\">\n",
       "  <thead>\n",
       "    <tr style=\"text-align: right;\">\n",
       "      <th></th>\n",
       "      <th>Deal_Id</th>\n",
       "      <th>SubFlow_Id</th>\n",
       "      <th>Date</th>\n",
       "      <th>Subcantidad</th>\n",
       "    </tr>\n",
       "  </thead>\n",
       "  <tbody>\n",
       "    <tr>\n",
       "      <th>0</th>\n",
       "      <td>37591650</td>\n",
       "      <td>93540225</td>\n",
       "      <td>2024-02-20T00:00:00+01:00</td>\n",
       "      <td>105279.586144</td>\n",
       "    </tr>\n",
       "    <tr>\n",
       "      <th>1</th>\n",
       "      <td>37591650</td>\n",
       "      <td>93540224</td>\n",
       "      <td>2024-02-20T00:00:00+01:00</td>\n",
       "      <td>409582.490000</td>\n",
       "    </tr>\n",
       "  </tbody>\n",
       "</table>\n",
       "</div>"
      ],
      "text/plain": [
       "    Deal_Id  SubFlow_Id                       Date    Subcantidad\n",
       "0  37591650    93540225  2024-02-20T00:00:00+01:00  105279.586144\n",
       "1  37591650    93540224  2024-02-20T00:00:00+01:00  409582.490000"
      ]
     },
     "execution_count": 13,
     "metadata": {},
     "output_type": "execute_result"
    }
   ],
   "source": [
    "#Extracción de información de sub-flows de los registros correspondientes\n",
    "flow_df = f.extract_df_from_json_src(df= deals, col= 'Flows',deal_col= 'Id')\n",
    "print('Número total de sub-flows: ' + str(flow_df.shape[0]))\n",
    "#Visualización df flows inicial\n",
    "flow_df.head(2)"
   ]
  },
  {
   "cell_type": "code",
   "execution_count": 14,
   "metadata": {},
   "outputs": [
    {
     "name": "stdout",
     "output_type": "stream",
     "text": [
      "Número de sub-flows para análisis: 2\n"
     ]
    },
    {
     "data": {
      "text/html": [
       "<div>\n",
       "<style scoped>\n",
       "    .dataframe tbody tr th:only-of-type {\n",
       "        vertical-align: middle;\n",
       "    }\n",
       "\n",
       "    .dataframe tbody tr th {\n",
       "        vertical-align: top;\n",
       "    }\n",
       "\n",
       "    .dataframe thead th {\n",
       "        text-align: right;\n",
       "    }\n",
       "</style>\n",
       "<table border=\"1\" class=\"dataframe\">\n",
       "  <thead>\n",
       "    <tr style=\"text-align: right;\">\n",
       "      <th></th>\n",
       "      <th>Deal_Id</th>\n",
       "      <th>SubFlow_Id</th>\n",
       "      <th>Date</th>\n",
       "      <th>Subcantidad</th>\n",
       "    </tr>\n",
       "  </thead>\n",
       "  <tbody>\n",
       "    <tr>\n",
       "      <th>2</th>\n",
       "      <td>37591650</td>\n",
       "      <td>93540227</td>\n",
       "      <td>2024-03-20T00:00:00+01:00</td>\n",
       "      <td>120318.957648</td>\n",
       "    </tr>\n",
       "    <tr>\n",
       "      <th>3</th>\n",
       "      <td>37591650</td>\n",
       "      <td>93540226</td>\n",
       "      <td>2024-03-20T00:00:00+01:00</td>\n",
       "      <td>383444.510000</td>\n",
       "    </tr>\n",
       "  </tbody>\n",
       "</table>\n",
       "</div>"
      ],
      "text/plain": [
       "    Deal_Id  SubFlow_Id                       Date    Subcantidad\n",
       "2  37591650    93540227  2024-03-20T00:00:00+01:00  120318.957648\n",
       "3  37591650    93540226  2024-03-20T00:00:00+01:00  383444.510000"
      ]
     },
     "execution_count": 14,
     "metadata": {},
     "output_type": "execute_result"
    }
   ],
   "source": [
    "#Selección de los flows del año y mes correspondientes a las facturas\n",
    "flow_df = flow_df[flow_df['Date'].apply(lambda x: x.startswith(ano + '-' + mes))]\n",
    "print('Número de sub-flows para análisis: ' + str(flow_df.shape[0]))\n",
    "#Visualización df flows filtrando las fechas correspondientes al análisis\n",
    "flow_df.head(2)"
   ]
  },
  {
   "cell_type": "markdown",
   "metadata": {},
   "source": [
    "## 6. Calculo de totales \n",
    "Calculos y operaciones necesarios para la obtención de información requerida por BackOffice"
   ]
  },
  {
   "cell_type": "markdown",
   "metadata": {},
   "source": [
    "### 6.1 Facturas de AGIKEY"
   ]
  },
  {
   "cell_type": "code",
   "execution_count": 15,
   "metadata": {},
   "outputs": [
    {
     "data": {
      "text/html": [
       "<div>\n",
       "<style scoped>\n",
       "    .dataframe tbody tr th:only-of-type {\n",
       "        vertical-align: middle;\n",
       "    }\n",
       "\n",
       "    .dataframe tbody tr th {\n",
       "        vertical-align: top;\n",
       "    }\n",
       "\n",
       "    .dataframe thead th {\n",
       "        text-align: right;\n",
       "    }\n",
       "</style>\n",
       "<table border=\"1\" class=\"dataframe\">\n",
       "  <thead>\n",
       "    <tr style=\"text-align: right;\">\n",
       "      <th></th>\n",
       "      <th>NumeroFactura</th>\n",
       "      <th>Importe</th>\n",
       "      <th>FechaFactura</th>\n",
       "    </tr>\n",
       "  </thead>\n",
       "  <tbody>\n",
       "    <tr>\n",
       "      <th>2</th>\n",
       "      <td>2324004231</td>\n",
       "      <td>503763.47</td>\n",
       "      <td>6/3/24</td>\n",
       "    </tr>\n",
       "  </tbody>\n",
       "</table>\n",
       "</div>"
      ],
      "text/plain": [
       "  NumeroFactura    Importe FechaFactura\n",
       "2    2324004231  503763.47       6/3/24"
      ]
     },
     "execution_count": 15,
     "metadata": {},
     "output_type": "execute_result"
    }
   ],
   "source": [
    "facturas[['NumeroFactura','Importe', 'FechaFactura']]"
   ]
  },
  {
   "cell_type": "code",
   "execution_count": 16,
   "metadata": {},
   "outputs": [],
   "source": [
    "#Cantidades total de las facturas\n",
    "TotalQuantityAGIKEY = facturas['Importe'].astype('float').sum()"
   ]
  },
  {
   "cell_type": "markdown",
   "metadata": {},
   "source": [
    "### 6.2 Deals TRS"
   ]
  },
  {
   "cell_type": "code",
   "execution_count": 17,
   "metadata": {},
   "outputs": [],
   "source": [
    "TotalQuantityTRS = flow_df['Subcantidad'].sum()"
   ]
  },
  {
   "cell_type": "code",
   "execution_count": 18,
   "metadata": {},
   "outputs": [
    {
     "data": {
      "text/html": [
       "<div>\n",
       "<style scoped>\n",
       "    .dataframe tbody tr th:only-of-type {\n",
       "        vertical-align: middle;\n",
       "    }\n",
       "\n",
       "    .dataframe tbody tr th {\n",
       "        vertical-align: top;\n",
       "    }\n",
       "\n",
       "    .dataframe thead th {\n",
       "        text-align: right;\n",
       "    }\n",
       "</style>\n",
       "<table border=\"1\" class=\"dataframe\">\n",
       "  <thead>\n",
       "    <tr style=\"text-align: right;\">\n",
       "      <th></th>\n",
       "      <th>Deal</th>\n",
       "      <th>Cantidad</th>\n",
       "      <th>StartDeliveryDate</th>\n",
       "      <th>EndDeliveryDate</th>\n",
       "      <th>Procedencia TRS</th>\n",
       "    </tr>\n",
       "  </thead>\n",
       "  <tbody>\n",
       "    <tr>\n",
       "      <th>0</th>\n",
       "      <td>37591650</td>\n",
       "      <td>503763.467648</td>\n",
       "      <td>2024-01-01T00:00:00+01:00</td>\n",
       "      <td>2024-12-31T00:00:00+01:00</td>\n",
       "      <td>MEDG2_IAC_GETRA</td>\n",
       "    </tr>\n",
       "  </tbody>\n",
       "</table>\n",
       "</div>"
      ],
      "text/plain": [
       "       Deal       Cantidad          StartDeliveryDate  \\\n",
       "0  37591650  503763.467648  2024-01-01T00:00:00+01:00   \n",
       "\n",
       "             EndDeliveryDate  Procedencia TRS  \n",
       "0  2024-12-31T00:00:00+01:00  MEDG2_IAC_GETRA  "
      ]
     },
     "execution_count": 18,
     "metadata": {},
     "output_type": "execute_result"
    }
   ],
   "source": [
    "results_deals = deals[['Id', 'StartDeliveryDate', 'EndDeliveryDate']]\n",
    "results_deals['Cantidad'] = TotalQuantityTRS\n",
    "results_deals['Procedencia TRS'] = file_names[0]\n",
    "results_deals = results_deals[['Id', 'Cantidad', 'StartDeliveryDate', 'EndDeliveryDate', 'Procedencia TRS']]\n",
    "results_deals = results_deals.rename(columns={'Id':'Deal'})\n",
    "results_deals"
   ]
  },
  {
   "cell_type": "code",
   "execution_count": 25,
   "metadata": {},
   "outputs": [
    {
     "data": {
      "text/html": [
       "<div>\n",
       "<style scoped>\n",
       "    .dataframe tbody tr th:only-of-type {\n",
       "        vertical-align: middle;\n",
       "    }\n",
       "\n",
       "    .dataframe tbody tr th {\n",
       "        vertical-align: top;\n",
       "    }\n",
       "\n",
       "    .dataframe thead th {\n",
       "        text-align: right;\n",
       "    }\n",
       "</style>\n",
       "<table border=\"1\" class=\"dataframe\">\n",
       "  <thead>\n",
       "    <tr style=\"text-align: right;\">\n",
       "      <th></th>\n",
       "      <th>Deal_Id</th>\n",
       "      <th>SubFlow_Id</th>\n",
       "      <th>Date</th>\n",
       "      <th>Subcantidad</th>\n",
       "    </tr>\n",
       "  </thead>\n",
       "  <tbody>\n",
       "    <tr>\n",
       "      <th>2</th>\n",
       "      <td>37591650</td>\n",
       "      <td>93540227</td>\n",
       "      <td>2024-03-20T00:00:00+01:00</td>\n",
       "      <td>120318.957648</td>\n",
       "    </tr>\n",
       "    <tr>\n",
       "      <th>3</th>\n",
       "      <td>37591650</td>\n",
       "      <td>93540226</td>\n",
       "      <td>2024-03-20T00:00:00+01:00</td>\n",
       "      <td>383444.510000</td>\n",
       "    </tr>\n",
       "  </tbody>\n",
       "</table>\n",
       "</div>"
      ],
      "text/plain": [
       "    Deal_Id  SubFlow_Id                       Date    Subcantidad\n",
       "2  37591650    93540227  2024-03-20T00:00:00+01:00  120318.957648\n",
       "3  37591650    93540226  2024-03-20T00:00:00+01:00  383444.510000"
      ]
     },
     "execution_count": 25,
     "metadata": {},
     "output_type": "execute_result"
    }
   ],
   "source": [
    "flow_df"
   ]
  },
  {
   "cell_type": "markdown",
   "metadata": {},
   "source": [
    "### 6.2 Matcheo"
   ]
  },
  {
   "cell_type": "code",
   "execution_count": 20,
   "metadata": {},
   "outputs": [],
   "source": [
    "Importe_conciliado = TotalQuantityTRS\n",
    "Importe_no_conciliado = TotalQuantityAGIKEY - Importe_conciliado\n"
   ]
  },
  {
   "cell_type": "markdown",
   "metadata": {},
   "source": [
    "## 7. Output final"
   ]
  },
  {
   "cell_type": "code",
   "execution_count": 21,
   "metadata": {},
   "outputs": [
    {
     "name": "stdout",
     "output_type": "stream",
     "text": [
      "(C.I. Almería, Entrada PVB)\n",
      "---> FACTURAS DE AGIKEY <---\n"
     ]
    },
    {
     "data": {
      "text/html": [
       "<div>\n",
       "<style scoped>\n",
       "    .dataframe tbody tr th:only-of-type {\n",
       "        vertical-align: middle;\n",
       "    }\n",
       "\n",
       "    .dataframe tbody tr th {\n",
       "        vertical-align: top;\n",
       "    }\n",
       "\n",
       "    .dataframe thead th {\n",
       "        text-align: right;\n",
       "    }\n",
       "</style>\n",
       "<table border=\"1\" class=\"dataframe\">\n",
       "  <thead>\n",
       "    <tr style=\"text-align: right;\">\n",
       "      <th></th>\n",
       "      <th>NumeroFactura</th>\n",
       "      <th>Importe</th>\n",
       "      <th>FechaFactura</th>\n",
       "    </tr>\n",
       "  </thead>\n",
       "  <tbody>\n",
       "    <tr>\n",
       "      <th>0</th>\n",
       "      <td>2324004231</td>\n",
       "      <td>503763.47</td>\n",
       "      <td>6/3/24</td>\n",
       "    </tr>\n",
       "  </tbody>\n",
       "</table>\n",
       "</div>"
      ],
      "text/plain": [
       "  NumeroFactura    Importe FechaFactura\n",
       "0    2324004231  503763.47       6/3/24"
      ]
     },
     "execution_count": 21,
     "metadata": {},
     "output_type": "execute_result"
    }
   ],
   "source": [
    "print('('+ origen + ', ' + servicio_facturado +')')\n",
    "print('---> FACTURAS DE AGIKEY <---')\n",
    "facturas[['NumeroFactura','Importe', 'FechaFactura']].reset_index(drop=True)"
   ]
  },
  {
   "cell_type": "code",
   "execution_count": 22,
   "metadata": {},
   "outputs": [
    {
     "name": "stdout",
     "output_type": "stream",
     "text": [
      "---> DEALS TRS <---\n"
     ]
    },
    {
     "data": {
      "text/html": [
       "<div>\n",
       "<style scoped>\n",
       "    .dataframe tbody tr th:only-of-type {\n",
       "        vertical-align: middle;\n",
       "    }\n",
       "\n",
       "    .dataframe tbody tr th {\n",
       "        vertical-align: top;\n",
       "    }\n",
       "\n",
       "    .dataframe thead th {\n",
       "        text-align: right;\n",
       "    }\n",
       "</style>\n",
       "<table border=\"1\" class=\"dataframe\">\n",
       "  <thead>\n",
       "    <tr style=\"text-align: right;\">\n",
       "      <th></th>\n",
       "      <th>Deal</th>\n",
       "      <th>Cantidad</th>\n",
       "      <th>StartDeliveryDate</th>\n",
       "      <th>EndDeliveryDate</th>\n",
       "      <th>Procedencia TRS</th>\n",
       "    </tr>\n",
       "  </thead>\n",
       "  <tbody>\n",
       "    <tr>\n",
       "      <th>0</th>\n",
       "      <td>37591650</td>\n",
       "      <td>503763.467648</td>\n",
       "      <td>2024-01-01T00:00:00+01:00</td>\n",
       "      <td>2024-12-31T00:00:00+01:00</td>\n",
       "      <td>MEDG2_IAC_GETRA</td>\n",
       "    </tr>\n",
       "  </tbody>\n",
       "</table>\n",
       "</div>"
      ],
      "text/plain": [
       "       Deal       Cantidad          StartDeliveryDate  \\\n",
       "0  37591650  503763.467648  2024-01-01T00:00:00+01:00   \n",
       "\n",
       "             EndDeliveryDate  Procedencia TRS  \n",
       "0  2024-12-31T00:00:00+01:00  MEDG2_IAC_GETRA  "
      ]
     },
     "execution_count": 22,
     "metadata": {},
     "output_type": "execute_result"
    }
   ],
   "source": [
    "print('---> DEALS TRS <---')\n",
    "results_deals"
   ]
  },
  {
   "cell_type": "code",
   "execution_count": 33,
   "metadata": {},
   "outputs": [
    {
     "name": "stdout",
     "output_type": "stream",
     "text": [
      "   SubFlow_Id                       Date    Subcantidad\n",
      "0    93540227  2024-03-20T00:00:00+01:00  120318.957648\n",
      "1    93540226  2024-03-20T00:00:00+01:00  383444.510000\n"
     ]
    }
   ],
   "source": [
    "deal_list = list(flow_df['Deal_Id'].unique())\n",
    "for i in deal_list:\n",
    "    aux_df = flow_df[flow_df['Deal_Id'] == i]\n",
    "    aux_df = aux_df[['SubFlow_Id', 'Date', 'Subcantidad']].reset_index(drop=True)\n",
    "    print(aux_df)"
   ]
  },
  {
   "cell_type": "code",
   "execution_count": 24,
   "metadata": {},
   "outputs": [
    {
     "name": "stdout",
     "output_type": "stream",
     "text": [
      " -----------MATCHEO-------------\n",
      "TotalQuantityAGIKEY: 503763.47 --> Facturación Total\n",
      "TotalQuantityTRS: 503763.467648 --> Importe Conciliado\n",
      "TotalQuantityAGIKEY - TotalQuantityTRS: 0.002351999981328845 --> Importe No Conciliado\n"
     ]
    }
   ],
   "source": [
    "print(' -----------MATCHEO-------------')\n",
    "print('TotalQuantityAGIKEY: ' + str(TotalQuantityAGIKEY) + ' --> Facturación Total')\n",
    "print('TotalQuantityTRS: '+ str(TotalQuantityTRS) + ' --> Importe Conciliado')\n",
    "print('TotalQuantityAGIKEY - TotalQuantityTRS: ' + str(TotalQuantityAGIKEY-TotalQuantityTRS) + ' --> Importe No Conciliado')"
   ]
  }
 ],
 "metadata": {
  "kernelspec": {
   "display_name": "Python 3",
   "language": "python",
   "name": "python3"
  },
  "language_info": {
   "codemirror_mode": {
    "name": "ipython",
    "version": 3
   },
   "file_extension": ".py",
   "mimetype": "text/x-python",
   "name": "python",
   "nbconvert_exporter": "python",
   "pygments_lexer": "ipython3",
   "version": "3.12.3"
  }
 },
 "nbformat": 4,
 "nbformat_minor": 2
}
