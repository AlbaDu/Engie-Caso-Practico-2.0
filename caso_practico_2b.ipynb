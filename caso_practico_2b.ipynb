{
 "cells": [
  {
   "cell_type": "markdown",
   "metadata": {},
   "source": [
    "# ENGIE - GEMS \n",
    "## Evaluación de las habilidades de gestión de datos y digitalización. Conciliación datos\n",
    "\n",
    "---\n",
    "Prueba práctica del proceso de selección desarrollada por Alba Durán Merinero"
   ]
  },
  {
   "cell_type": "markdown",
   "metadata": {},
   "source": [
    "## 1. Configuración de paths y librerías "
   ]
  },
  {
   "cell_type": "code",
   "execution_count": 1,
   "metadata": {},
   "outputs": [],
   "source": [
    "import funciones_caso_practico as f\n",
    "import os\n",
    "\n",
    "main_path = \"datos/\" \n",
    "facturas_path = main_path + \"facturas_agiekey.xlsx\"\n",
    "mapping_path = main_path + \"Mapping.xlsx\"\n",
    "deals_path = main_path + \"Deals_Marzo_2024/\""
   ]
  },
  {
   "cell_type": "markdown",
   "metadata": {},
   "source": [
    "## 2. Configuración de parámetros de la conciliación \n",
    "\n",
    "Es necesario establecer los criterios del análisis a llevar a cabo. Se necesita informar del Año, Mes, Origen y Servicio Facturado de las facturas a conciliar.\n",
    "Toda la información debe aportarse en formato string (texto entrecomillado)\n",
    "\n",
    "**IMPORTANTE:**\n",
    "En este notebook se han configurado los parámetros para la resolución del apartado 2b."
   ]
  },
  {
   "cell_type": "code",
   "execution_count": 2,
   "metadata": {},
   "outputs": [],
   "source": [
    "#PARAMETROS PARA REPRODUCIR LOS RESULTADOS DEL APARTADO 2a\n",
    "#Fecha\n",
    "ano ='2024'\n",
    "mes = '03'  #codificamos mes de marzo \n",
    "#Origen y Servicio Facturado a conciliar, expresado igual que en el fichero Facturas_agiekey\n",
    "origen = 'TVB'\n",
    "servicio_facturado = 'Almacenamiento TVB'"
   ]
  },
  {
   "cell_type": "markdown",
   "metadata": {},
   "source": [
    "## 3. Fichero facturas "
   ]
  },
  {
   "cell_type": "code",
   "execution_count": 3,
   "metadata": {},
   "outputs": [
    {
     "name": "stdout",
     "output_type": "stream",
     "text": [
      "Número total de facturas: 14\n"
     ]
    }
   ],
   "source": [
    "#Carga del fichero de facturas\n",
    "facturas = f.carga_xlsx(facturas_path)\n",
    "print('Número total de facturas: ' + str(facturas.shape[0]))"
   ]
  },
  {
   "cell_type": "code",
   "execution_count": 4,
   "metadata": {},
   "outputs": [
    {
     "data": {
      "text/html": [
       "<div>\n",
       "<style scoped>\n",
       "    .dataframe tbody tr th:only-of-type {\n",
       "        vertical-align: middle;\n",
       "    }\n",
       "\n",
       "    .dataframe tbody tr th {\n",
       "        vertical-align: top;\n",
       "    }\n",
       "\n",
       "    .dataframe thead th {\n",
       "        text-align: right;\n",
       "    }\n",
       "</style>\n",
       "<table border=\"1\" class=\"dataframe\">\n",
       "  <thead>\n",
       "    <tr style=\"text-align: right;\">\n",
       "      <th></th>\n",
       "      <th>NumeroFactura</th>\n",
       "      <th>Emisor</th>\n",
       "      <th>RazonSocialEmisor</th>\n",
       "      <th>DepEmisor</th>\n",
       "      <th>Receptor</th>\n",
       "      <th>RazonSocialReceptor</th>\n",
       "      <th>DepReceptor</th>\n",
       "      <th>FechaFactura</th>\n",
       "      <th>Importe</th>\n",
       "      <th>Moneda</th>\n",
       "      <th>Estado</th>\n",
       "      <th>FechaEstado</th>\n",
       "      <th>FechaRegistro</th>\n",
       "      <th>Destino</th>\n",
       "      <th>Contrato</th>\n",
       "      <th>Origen</th>\n",
       "      <th>ServicioFacturado</th>\n",
       "      <th>¿Verificada por BO?</th>\n",
       "      <th>Observaciones</th>\n",
       "    </tr>\n",
       "  </thead>\n",
       "  <tbody>\n",
       "    <tr>\n",
       "      <th>0</th>\n",
       "      <td>2024264672</td>\n",
       "      <td>ESA86484292</td>\n",
       "      <td>ENAGAS GTS, SAU</td>\n",
       "      <td>60</td>\n",
       "      <td>ESB82508441</td>\n",
       "      <td>ENGIE ESPAÑA SLU</td>\n",
       "      <td>NaN</td>\n",
       "      <td>4/3/24</td>\n",
       "      <td>123195.13</td>\n",
       "      <td>EUR</td>\n",
       "      <td>Recibida</td>\n",
       "      <td>4/3/24</td>\n",
       "      <td>4/3/24</td>\n",
       "      <td>eMail</td>\n",
       "      <td>344991</td>\n",
       "      <td>AVB</td>\n",
       "      <td>Servicio agregado AVB</td>\n",
       "      <td>NaN</td>\n",
       "      <td>NaN</td>\n",
       "    </tr>\n",
       "    <tr>\n",
       "      <th>1</th>\n",
       "      <td>2024264671</td>\n",
       "      <td>ESA86484292</td>\n",
       "      <td>ENAGAS GTS, SAU</td>\n",
       "      <td>60</td>\n",
       "      <td>ESB82508441</td>\n",
       "      <td>ENGIE ESPAÑA SLU</td>\n",
       "      <td>NaN</td>\n",
       "      <td>4/3/24</td>\n",
       "      <td>111963.62</td>\n",
       "      <td>EUR</td>\n",
       "      <td>Recibida</td>\n",
       "      <td>4/3/24</td>\n",
       "      <td>4/3/24</td>\n",
       "      <td>eMail</td>\n",
       "      <td>344991</td>\n",
       "      <td>AVB</td>\n",
       "      <td>Servicio agregado AVB</td>\n",
       "      <td>NaN</td>\n",
       "      <td>NaN</td>\n",
       "    </tr>\n",
       "  </tbody>\n",
       "</table>\n",
       "</div>"
      ],
      "text/plain": [
       "  NumeroFactura       Emisor RazonSocialEmisor DepEmisor     Receptor  \\\n",
       "0    2024264672  ESA86484292   ENAGAS GTS, SAU        60  ESB82508441   \n",
       "1    2024264671  ESA86484292   ENAGAS GTS, SAU        60  ESB82508441   \n",
       "\n",
       "  RazonSocialReceptor DepReceptor FechaFactura    Importe Moneda    Estado  \\\n",
       "0    ENGIE ESPAÑA SLU         NaN       4/3/24  123195.13    EUR  Recibida   \n",
       "1    ENGIE ESPAÑA SLU         NaN       4/3/24  111963.62    EUR  Recibida   \n",
       "\n",
       "  FechaEstado FechaRegistro Destino Contrato Origen      ServicioFacturado  \\\n",
       "0      4/3/24        4/3/24   eMail   344991    AVB  Servicio agregado AVB   \n",
       "1      4/3/24        4/3/24   eMail   344991    AVB  Servicio agregado AVB   \n",
       "\n",
       "  ¿Verificada por BO? Observaciones  \n",
       "0                 NaN           NaN  \n",
       "1                 NaN           NaN  "
      ]
     },
     "execution_count": 4,
     "metadata": {},
     "output_type": "execute_result"
    }
   ],
   "source": [
    "#Visualización df facturas inicial\n",
    "facturas.head(2)"
   ]
  },
  {
   "cell_type": "markdown",
   "metadata": {},
   "source": [
    "### 3.1 Filtrado de facturas"
   ]
  },
  {
   "cell_type": "code",
   "execution_count": 5,
   "metadata": {},
   "outputs": [
    {
     "name": "stdout",
     "output_type": "stream",
     "text": [
      "Número de facturas correspondientes al Origen y Servicio Facturado: 11\n"
     ]
    }
   ],
   "source": [
    "#Filtro de Facturas según el Origen y Servicio Facturado a conciliar\n",
    "facturas = facturas[(facturas['Origen'] == origen) & (facturas['ServicioFacturado'] == servicio_facturado)]\n",
    "print('Número de facturas correspondientes al Origen y Servicio Facturado: ' + str(facturas.shape[0]))"
   ]
  },
  {
   "cell_type": "code",
   "execution_count": 6,
   "metadata": {},
   "outputs": [
    {
     "data": {
      "text/html": [
       "<div>\n",
       "<style scoped>\n",
       "    .dataframe tbody tr th:only-of-type {\n",
       "        vertical-align: middle;\n",
       "    }\n",
       "\n",
       "    .dataframe tbody tr th {\n",
       "        vertical-align: top;\n",
       "    }\n",
       "\n",
       "    .dataframe thead th {\n",
       "        text-align: right;\n",
       "    }\n",
       "</style>\n",
       "<table border=\"1\" class=\"dataframe\">\n",
       "  <thead>\n",
       "    <tr style=\"text-align: right;\">\n",
       "      <th></th>\n",
       "      <th>NumeroFactura</th>\n",
       "      <th>Emisor</th>\n",
       "      <th>RazonSocialEmisor</th>\n",
       "      <th>DepEmisor</th>\n",
       "      <th>Receptor</th>\n",
       "      <th>RazonSocialReceptor</th>\n",
       "      <th>DepReceptor</th>\n",
       "      <th>FechaFactura</th>\n",
       "      <th>Importe</th>\n",
       "      <th>Moneda</th>\n",
       "      <th>Estado</th>\n",
       "      <th>FechaEstado</th>\n",
       "      <th>FechaRegistro</th>\n",
       "      <th>Destino</th>\n",
       "      <th>Contrato</th>\n",
       "      <th>Origen</th>\n",
       "      <th>ServicioFacturado</th>\n",
       "      <th>¿Verificada por BO?</th>\n",
       "      <th>Observaciones</th>\n",
       "    </tr>\n",
       "  </thead>\n",
       "  <tbody>\n",
       "    <tr>\n",
       "      <th>3</th>\n",
       "      <td>2024164592</td>\n",
       "      <td>ESA86484292</td>\n",
       "      <td>ENAGAS GTS, SAU</td>\n",
       "      <td>50</td>\n",
       "      <td>ESB82508441</td>\n",
       "      <td>ENGIE ESPAÑA SLU</td>\n",
       "      <td>NaN</td>\n",
       "      <td>4/3/24</td>\n",
       "      <td>1375.12</td>\n",
       "      <td>EUR</td>\n",
       "      <td>Recibida</td>\n",
       "      <td>4/3/24</td>\n",
       "      <td>4/3/24</td>\n",
       "      <td>eMail</td>\n",
       "      <td>344991</td>\n",
       "      <td>TVB</td>\n",
       "      <td>Almacenamiento TVB</td>\n",
       "      <td>NaN</td>\n",
       "      <td>NaN</td>\n",
       "    </tr>\n",
       "    <tr>\n",
       "      <th>4</th>\n",
       "      <td>2024164591</td>\n",
       "      <td>ESA86484292</td>\n",
       "      <td>ENAGAS GTS, SAU</td>\n",
       "      <td>50</td>\n",
       "      <td>ESB82508441</td>\n",
       "      <td>ENGIE ESPAÑA SLU</td>\n",
       "      <td>NaN</td>\n",
       "      <td>4/3/24</td>\n",
       "      <td>1787.43</td>\n",
       "      <td>EUR</td>\n",
       "      <td>Recibida</td>\n",
       "      <td>4/3/24</td>\n",
       "      <td>4/3/24</td>\n",
       "      <td>eMail</td>\n",
       "      <td>344991</td>\n",
       "      <td>TVB</td>\n",
       "      <td>Almacenamiento TVB</td>\n",
       "      <td>NaN</td>\n",
       "      <td>NaN</td>\n",
       "    </tr>\n",
       "  </tbody>\n",
       "</table>\n",
       "</div>"
      ],
      "text/plain": [
       "  NumeroFactura       Emisor RazonSocialEmisor DepEmisor     Receptor  \\\n",
       "3    2024164592  ESA86484292   ENAGAS GTS, SAU        50  ESB82508441   \n",
       "4    2024164591  ESA86484292   ENAGAS GTS, SAU        50  ESB82508441   \n",
       "\n",
       "  RazonSocialReceptor DepReceptor FechaFactura  Importe Moneda    Estado  \\\n",
       "3    ENGIE ESPAÑA SLU         NaN       4/3/24  1375.12    EUR  Recibida   \n",
       "4    ENGIE ESPAÑA SLU         NaN       4/3/24  1787.43    EUR  Recibida   \n",
       "\n",
       "  FechaEstado FechaRegistro Destino Contrato Origen   ServicioFacturado  \\\n",
       "3      4/3/24        4/3/24   eMail   344991    TVB  Almacenamiento TVB   \n",
       "4      4/3/24        4/3/24   eMail   344991    TVB  Almacenamiento TVB   \n",
       "\n",
       "  ¿Verificada por BO? Observaciones  \n",
       "3                 NaN           NaN  \n",
       "4                 NaN           NaN  "
      ]
     },
     "execution_count": 6,
     "metadata": {},
     "output_type": "execute_result"
    }
   ],
   "source": [
    "#Visualización df facturas filtrando el concepto de Origen y Servicio Facturado correspondiente\n",
    "facturas.head(2)"
   ]
  },
  {
   "cell_type": "markdown",
   "metadata": {},
   "source": [
    "### 3.2 Resumen de facturas"
   ]
  },
  {
   "cell_type": "code",
   "execution_count": 7,
   "metadata": {},
   "outputs": [
    {
     "name": "stdout",
     "output_type": "stream",
     "text": [
      "Número de facturas correspondientes al Origen y Servicio Facturado: 11\n",
      "Número de clientes: 1\n",
      "Facturación global del concepto: 72435.76EUR\n"
     ]
    }
   ],
   "source": [
    "#Resumen de facturas\n",
    "resumen_fact = f.global_info(facturas)\n",
    "\n",
    "#Prints de la información\n",
    "print('Número de facturas correspondientes al Origen y Servicio Facturado: ' + str(resumen_fact['NumeroFacturasValidas'][0]))\n",
    "print('Número de clientes: ' + str(resumen_fact['NumeroClientes'][0]))\n",
    "print('Facturación global del concepto: ' + str(resumen_fact['FacturacionTotal'][0]))"
   ]
  },
  {
   "cell_type": "markdown",
   "metadata": {},
   "source": [
    "## 4. Carga del fichero de mapping "
   ]
  },
  {
   "cell_type": "code",
   "execution_count": 8,
   "metadata": {},
   "outputs": [],
   "source": [
    "#Carga fichero mapping\n",
    "mapping = f.carga_xlsx(mapping_path)"
   ]
  },
  {
   "cell_type": "code",
   "execution_count": 9,
   "metadata": {},
   "outputs": [
    {
     "data": {
      "text/html": [
       "<div>\n",
       "<style scoped>\n",
       "    .dataframe tbody tr th:only-of-type {\n",
       "        vertical-align: middle;\n",
       "    }\n",
       "\n",
       "    .dataframe tbody tr th {\n",
       "        vertical-align: top;\n",
       "    }\n",
       "\n",
       "    .dataframe thead th {\n",
       "        text-align: right;\n",
       "    }\n",
       "</style>\n",
       "<table border=\"1\" class=\"dataframe\">\n",
       "  <thead>\n",
       "    <tr style=\"text-align: right;\">\n",
       "      <th></th>\n",
       "      <th>Origen</th>\n",
       "      <th>Servicio facturado</th>\n",
       "      <th>Portfolio</th>\n",
       "      <th>Commodity</th>\n",
       "      <th>DealType</th>\n",
       "      <th>FileName</th>\n",
       "    </tr>\n",
       "  </thead>\n",
       "  <tbody>\n",
       "    <tr>\n",
       "      <th>16</th>\n",
       "      <td>TVB</td>\n",
       "      <td>Almacenamiento TVB</td>\n",
       "      <td>JVLNG</td>\n",
       "      <td>CTV</td>\n",
       "      <td>STOK</td>\n",
       "      <td>JVLNG_CTV_STOK</td>\n",
       "    </tr>\n",
       "  </tbody>\n",
       "</table>\n",
       "</div>"
      ],
      "text/plain": [
       "   Origen  Servicio facturado Portfolio Commodity DealType        FileName\n",
       "16    TVB  Almacenamiento TVB     JVLNG       CTV     STOK  JVLNG_CTV_STOK"
      ]
     },
     "execution_count": 9,
     "metadata": {},
     "output_type": "execute_result"
    }
   ],
   "source": [
    "#Filtro de dataset Mapping según el Origen y Servicio Facturado a conciliar en Facturas\n",
    "mapping = mapping[(mapping['Origen'] == origen) & (mapping['Servicio facturado'] == servicio_facturado)]\n",
    "#Creación nueva columna\n",
    "mapping = f.combcols(mapping, 'FileName', ['Portfolio','Commodity','DealType'])\n",
    "#En caso de filas 100% duplicadas se mantiene solo la primera\n",
    "mapping = mapping.drop_duplicates(keep='first')\n",
    "#Visualización del df mapping filtrando el concepto de Origen y Servicio Facturado correspondiente\n",
    "mapping"
   ]
  },
  {
   "cell_type": "markdown",
   "metadata": {},
   "source": [
    "### 4.1 Selección a través del mapping del archivo de Deals corresponiente para conciliar las facturas"
   ]
  },
  {
   "cell_type": "code",
   "execution_count": 10,
   "metadata": {},
   "outputs": [],
   "source": [
    "#Lista de archivos que coinciden según el origen\n",
    "file_names = list(mapping['FileName'])\n",
    "#Obtencion de lista de archivos en el directorio de los deals\n",
    "list_files = os.listdir(deals_path)\n",
    "#Filtro de archivos que correspondientes\n",
    "filtered_files = [file for file in list_files if (file.startswith(file_names[0])) & (file.endswith('.xlsx'))]\n",
    "#Construcción del path\n",
    "fil_file_path = deals_path + filtered_files[0]\n"
   ]
  },
  {
   "cell_type": "code",
   "execution_count": 11,
   "metadata": {},
   "outputs": [
    {
     "name": "stdout",
     "output_type": "stream",
     "text": [
      "['JVLNG_CTV_STOK_MARZO_2024_05_23_14_12.xlsx']\n"
     ]
    }
   ],
   "source": [
    "#fichero o ficheros leidos para el análisis de Deals\n",
    "print(filtered_files)"
   ]
  },
  {
   "cell_type": "markdown",
   "metadata": {},
   "source": [
    "## 5. Carga fichero de deals"
   ]
  },
  {
   "cell_type": "code",
   "execution_count": 12,
   "metadata": {},
   "outputs": [
    {
     "name": "stdout",
     "output_type": "stream",
     "text": [
      "Numero total de deals: 42\n"
     ]
    },
    {
     "data": {
      "text/html": [
       "<div>\n",
       "<style scoped>\n",
       "    .dataframe tbody tr th:only-of-type {\n",
       "        vertical-align: middle;\n",
       "    }\n",
       "\n",
       "    .dataframe tbody tr th {\n",
       "        vertical-align: top;\n",
       "    }\n",
       "\n",
       "    .dataframe thead th {\n",
       "        text-align: right;\n",
       "    }\n",
       "</style>\n",
       "<table border=\"1\" class=\"dataframe\">\n",
       "  <thead>\n",
       "    <tr style=\"text-align: right;\">\n",
       "      <th></th>\n",
       "      <th>Unnamed: 0</th>\n",
       "      <th>AggregatedKey</th>\n",
       "      <th>ApplicationPeriod</th>\n",
       "      <th>BookingSource</th>\n",
       "      <th>BOValidated</th>\n",
       "      <th>BOValidationDate</th>\n",
       "      <th>BOValidator</th>\n",
       "      <th>CancelsDealId</th>\n",
       "      <th>Capacity</th>\n",
       "      <th>CapacityFrequency</th>\n",
       "      <th>...</th>\n",
       "      <th>ExerciseDate</th>\n",
       "      <th>ExerciseType</th>\n",
       "      <th>Nature</th>\n",
       "      <th>OptionNature</th>\n",
       "      <th>OptionType</th>\n",
       "      <th>PeriodInfoCollection</th>\n",
       "      <th>Script</th>\n",
       "      <th>TemplateId</th>\n",
       "      <th>TemplateScript</th>\n",
       "      <th>OrderId</th>\n",
       "    </tr>\n",
       "  </thead>\n",
       "  <tbody>\n",
       "    <tr>\n",
       "      <th>0</th>\n",
       "      <td>0</td>\n",
       "      <td>42563586,2024/05/20 13:35:59,GEFWD</td>\n",
       "      <td>010524</td>\n",
       "      <td>MET</td>\n",
       "      <td>True</td>\n",
       "      <td>2024-05-20T13:35:59+02:00</td>\n",
       "      <td>GGH410</td>\n",
       "      <td>0</td>\n",
       "      <td>90000</td>\n",
       "      <td>1440</td>\n",
       "      <td>...</td>\n",
       "      <td>NaN</td>\n",
       "      <td>NaN</td>\n",
       "      <td>NaN</td>\n",
       "      <td>NaN</td>\n",
       "      <td>NaN</td>\n",
       "      <td>NaN</td>\n",
       "      <td>NaN</td>\n",
       "      <td>NaN</td>\n",
       "      <td>NaN</td>\n",
       "      <td>NaN</td>\n",
       "    </tr>\n",
       "    <tr>\n",
       "      <th>1</th>\n",
       "      <td>1</td>\n",
       "      <td>42518127,2024/05/20 13:34:13,GEFWD</td>\n",
       "      <td>040624</td>\n",
       "      <td>MET</td>\n",
       "      <td>True</td>\n",
       "      <td>2024-05-20T13:34:13+02:00</td>\n",
       "      <td>GGH410</td>\n",
       "      <td>0</td>\n",
       "      <td>50000</td>\n",
       "      <td>1440</td>\n",
       "      <td>...</td>\n",
       "      <td>NaN</td>\n",
       "      <td>NaN</td>\n",
       "      <td>NaN</td>\n",
       "      <td>NaN</td>\n",
       "      <td>NaN</td>\n",
       "      <td>NaN</td>\n",
       "      <td>NaN</td>\n",
       "      <td>NaN</td>\n",
       "      <td>NaN</td>\n",
       "      <td>NaN</td>\n",
       "    </tr>\n",
       "  </tbody>\n",
       "</table>\n",
       "<p>2 rows × 108 columns</p>\n",
       "</div>"
      ],
      "text/plain": [
       "  Unnamed: 0                       AggregatedKey ApplicationPeriod  \\\n",
       "0          0  42563586,2024/05/20 13:35:59,GEFWD            010524   \n",
       "1          1  42518127,2024/05/20 13:34:13,GEFWD            040624   \n",
       "\n",
       "  BookingSource BOValidated           BOValidationDate BOValidator  \\\n",
       "0           MET        True  2024-05-20T13:35:59+02:00      GGH410   \n",
       "1           MET        True  2024-05-20T13:34:13+02:00      GGH410   \n",
       "\n",
       "  CancelsDealId Capacity CapacityFrequency  ... ExerciseDate ExerciseType  \\\n",
       "0             0    90000              1440  ...          NaN          NaN   \n",
       "1             0    50000              1440  ...          NaN          NaN   \n",
       "\n",
       "  Nature OptionNature OptionType PeriodInfoCollection Script TemplateId  \\\n",
       "0    NaN          NaN        NaN                  NaN    NaN        NaN   \n",
       "1    NaN          NaN        NaN                  NaN    NaN        NaN   \n",
       "\n",
       "  TemplateScript OrderId  \n",
       "0            NaN     NaN  \n",
       "1            NaN     NaN  \n",
       "\n",
       "[2 rows x 108 columns]"
      ]
     },
     "execution_count": 12,
     "metadata": {},
     "output_type": "execute_result"
    }
   ],
   "source": [
    "deals = f.carga_xlsx(fil_file_path)\n",
    "print('Numero total de deals: '+ str(deals.shape[0]))\n",
    "#Visualización df deals inicial\n",
    "deals.head(2)"
   ]
  },
  {
   "cell_type": "markdown",
   "metadata": {},
   "source": [
    "### 5.1 Selección de Deals con Status Alive y DealType correspondiente"
   ]
  },
  {
   "cell_type": "code",
   "execution_count": 13,
   "metadata": {},
   "outputs": [
    {
     "name": "stdout",
     "output_type": "stream",
     "text": [
      "Numero total de deals con Status Alive y DealType STOK: 4\n"
     ]
    }
   ],
   "source": [
    "#Extración de deals con Status == 'Alive', DealType == 'STOK'\n",
    "deals = deals[(deals['Status']=='Alive') & (deals['DealType']=='STOK')]\n",
    "print('Numero total de deals con Status Alive y DealType STOK: '+ str(deals.shape[0]))\n"
   ]
  },
  {
   "cell_type": "markdown",
   "metadata": {},
   "source": [
    "### 5.2 Análisis de los sub-flows\n",
    "La información de cada uno de los flows que se engloban en un Deal, se puede obtener del campo ['Flow'], el cual se encuentra en formato json"
   ]
  },
  {
   "cell_type": "code",
   "execution_count": 15,
   "metadata": {},
   "outputs": [
    {
     "name": "stdout",
     "output_type": "stream",
     "text": [
      "Generando dataframe para deal:  39980344\n",
      "Generando dataframe para deal:  39705811\n",
      "Generando dataframe para deal:  37761994\n",
      "Generando dataframe para deal:  31915597\n",
      "Concatenando dataframes generados...\n",
      "Número total de sub-flows: 120\n"
     ]
    }
   ],
   "source": [
    "#Extracción de información de sub-flows de los registros correspondientes\n",
    "flow_df = f.extract_df_from_json_src(df= deals, col= 'Flows',deal_col= 'Id')\n",
    "print('Número total de sub-flows: ' + str(flow_df.shape[0]))"
   ]
  },
  {
   "cell_type": "code",
   "execution_count": 16,
   "metadata": {},
   "outputs": [
    {
     "name": "stdout",
     "output_type": "stream",
     "text": [
      "Número de sub-flows para análisis: 4\n"
     ]
    },
    {
     "data": {
      "text/html": [
       "<div>\n",
       "<style scoped>\n",
       "    .dataframe tbody tr th:only-of-type {\n",
       "        vertical-align: middle;\n",
       "    }\n",
       "\n",
       "    .dataframe tbody tr th {\n",
       "        vertical-align: top;\n",
       "    }\n",
       "\n",
       "    .dataframe thead th {\n",
       "        text-align: right;\n",
       "    }\n",
       "</style>\n",
       "<table border=\"1\" class=\"dataframe\">\n",
       "  <thead>\n",
       "    <tr style=\"text-align: right;\">\n",
       "      <th></th>\n",
       "      <th>Deal_Id</th>\n",
       "      <th>SubFlow_Id</th>\n",
       "      <th>Date</th>\n",
       "      <th>Subcantidad</th>\n",
       "    </tr>\n",
       "  </thead>\n",
       "  <tbody>\n",
       "    <tr>\n",
       "      <th>0</th>\n",
       "      <td>39980344</td>\n",
       "      <td>101112346</td>\n",
       "      <td>2024-03-20T00:00:00+01:00</td>\n",
       "      <td>0.00</td>\n",
       "    </tr>\n",
       "    <tr>\n",
       "      <th>1</th>\n",
       "      <td>39980344</td>\n",
       "      <td>101112345</td>\n",
       "      <td>2024-03-20T00:00:00+01:00</td>\n",
       "      <td>72435.51</td>\n",
       "    </tr>\n",
       "    <tr>\n",
       "      <th>78</th>\n",
       "      <td>37761994</td>\n",
       "      <td>94022896</td>\n",
       "      <td>2024-03-20T00:00:00+01:00</td>\n",
       "      <td>0.00</td>\n",
       "    </tr>\n",
       "    <tr>\n",
       "      <th>79</th>\n",
       "      <td>37761994</td>\n",
       "      <td>94022897</td>\n",
       "      <td>2024-03-20T00:00:00+01:00</td>\n",
       "      <td>0.00</td>\n",
       "    </tr>\n",
       "  </tbody>\n",
       "</table>\n",
       "</div>"
      ],
      "text/plain": [
       "     Deal_Id  SubFlow_Id                       Date  Subcantidad\n",
       "0   39980344   101112346  2024-03-20T00:00:00+01:00         0.00\n",
       "1   39980344   101112345  2024-03-20T00:00:00+01:00     72435.51\n",
       "78  37761994    94022896  2024-03-20T00:00:00+01:00         0.00\n",
       "79  37761994    94022897  2024-03-20T00:00:00+01:00         0.00"
      ]
     },
     "execution_count": 16,
     "metadata": {},
     "output_type": "execute_result"
    }
   ],
   "source": [
    "#Selección de los flows del año y mes correspondientes a las facturas\n",
    "flow_df = flow_df[flow_df['Date'].apply(lambda x: x.startswith(ano + '-' + mes))]\n",
    "print('Número de sub-flows para análisis: ' + str(flow_df.shape[0]))\n",
    "#Visualización df flows filtrando las fechas correspondientes al análisis\n",
    "flow_df"
   ]
  },
  {
   "cell_type": "code",
   "execution_count": 17,
   "metadata": {},
   "outputs": [],
   "source": [
    "agg_flow = flow_df.groupby('Deal_Id').agg({'Subcantidad':'sum'}).reset_index()\n",
    "agg_flow = {col:value for col, value in zip(agg_flow['Deal_Id'], agg_flow['Subcantidad'])}"
   ]
  },
  {
   "cell_type": "markdown",
   "metadata": {},
   "source": [
    "## 6. Calculo de totales \n",
    "Calculos y operaciones necesarios para la obtención de información requerida por BackOffice"
   ]
  },
  {
   "cell_type": "markdown",
   "metadata": {},
   "source": [
    "### 6.1 Facturas de AGIKEY"
   ]
  },
  {
   "cell_type": "code",
   "execution_count": 18,
   "metadata": {},
   "outputs": [
    {
     "data": {
      "text/html": [
       "<div>\n",
       "<style scoped>\n",
       "    .dataframe tbody tr th:only-of-type {\n",
       "        vertical-align: middle;\n",
       "    }\n",
       "\n",
       "    .dataframe tbody tr th {\n",
       "        vertical-align: top;\n",
       "    }\n",
       "\n",
       "    .dataframe thead th {\n",
       "        text-align: right;\n",
       "    }\n",
       "</style>\n",
       "<table border=\"1\" class=\"dataframe\">\n",
       "  <thead>\n",
       "    <tr style=\"text-align: right;\">\n",
       "      <th></th>\n",
       "      <th>NumeroFactura</th>\n",
       "      <th>Importe</th>\n",
       "      <th>FechaFactura</th>\n",
       "    </tr>\n",
       "  </thead>\n",
       "  <tbody>\n",
       "    <tr>\n",
       "      <th>3</th>\n",
       "      <td>2024164592</td>\n",
       "      <td>1375.12</td>\n",
       "      <td>4/3/24</td>\n",
       "    </tr>\n",
       "    <tr>\n",
       "      <th>4</th>\n",
       "      <td>2024164591</td>\n",
       "      <td>1787.43</td>\n",
       "      <td>4/3/24</td>\n",
       "    </tr>\n",
       "    <tr>\n",
       "      <th>5</th>\n",
       "      <td>2024164590</td>\n",
       "      <td>1930.23</td>\n",
       "      <td>4/3/24</td>\n",
       "    </tr>\n",
       "    <tr>\n",
       "      <th>6</th>\n",
       "      <td>2024164589</td>\n",
       "      <td>1472.13</td>\n",
       "      <td>4/3/24</td>\n",
       "    </tr>\n",
       "    <tr>\n",
       "      <th>7</th>\n",
       "      <td>2024164588</td>\n",
       "      <td>1965.66</td>\n",
       "      <td>4/3/24</td>\n",
       "    </tr>\n",
       "    <tr>\n",
       "      <th>8</th>\n",
       "      <td>2024164587</td>\n",
       "      <td>1041.67</td>\n",
       "      <td>4/3/24</td>\n",
       "    </tr>\n",
       "    <tr>\n",
       "      <th>9</th>\n",
       "      <td>2024164586</td>\n",
       "      <td>1030.97</td>\n",
       "      <td>4/3/24</td>\n",
       "    </tr>\n",
       "    <tr>\n",
       "      <th>10</th>\n",
       "      <td>2024164585</td>\n",
       "      <td>1017.59</td>\n",
       "      <td>4/3/24</td>\n",
       "    </tr>\n",
       "    <tr>\n",
       "      <th>11</th>\n",
       "      <td>2024164584</td>\n",
       "      <td>1015.95</td>\n",
       "      <td>4/3/24</td>\n",
       "    </tr>\n",
       "    <tr>\n",
       "      <th>12</th>\n",
       "      <td>2024164583</td>\n",
       "      <td>718.6</td>\n",
       "      <td>4/3/24</td>\n",
       "    </tr>\n",
       "    <tr>\n",
       "      <th>13</th>\n",
       "      <td>2024164582</td>\n",
       "      <td>59080.41</td>\n",
       "      <td>4/3/24</td>\n",
       "    </tr>\n",
       "  </tbody>\n",
       "</table>\n",
       "</div>"
      ],
      "text/plain": [
       "   NumeroFactura   Importe FechaFactura\n",
       "3     2024164592   1375.12       4/3/24\n",
       "4     2024164591   1787.43       4/3/24\n",
       "5     2024164590   1930.23       4/3/24\n",
       "6     2024164589   1472.13       4/3/24\n",
       "7     2024164588   1965.66       4/3/24\n",
       "8     2024164587   1041.67       4/3/24\n",
       "9     2024164586   1030.97       4/3/24\n",
       "10    2024164585   1017.59       4/3/24\n",
       "11    2024164584   1015.95       4/3/24\n",
       "12    2024164583     718.6       4/3/24\n",
       "13    2024164582  59080.41       4/3/24"
      ]
     },
     "execution_count": 18,
     "metadata": {},
     "output_type": "execute_result"
    }
   ],
   "source": [
    "facturas[['NumeroFactura','Importe', 'FechaFactura']]"
   ]
  },
  {
   "cell_type": "code",
   "execution_count": 19,
   "metadata": {},
   "outputs": [],
   "source": [
    "#Cantidades total de las facturas\n",
    "TotalQuantityAGIKEY = facturas['Importe'].astype('float').sum()"
   ]
  },
  {
   "cell_type": "markdown",
   "metadata": {},
   "source": [
    "### 6.2 Deals TRS"
   ]
  },
  {
   "cell_type": "code",
   "execution_count": 20,
   "metadata": {},
   "outputs": [],
   "source": [
    "TotalQuantityTRS = flow_df['Subcantidad'].sum()"
   ]
  },
  {
   "cell_type": "code",
   "execution_count": 22,
   "metadata": {},
   "outputs": [
    {
     "data": {
      "text/html": [
       "<div>\n",
       "<style scoped>\n",
       "    .dataframe tbody tr th:only-of-type {\n",
       "        vertical-align: middle;\n",
       "    }\n",
       "\n",
       "    .dataframe tbody tr th {\n",
       "        vertical-align: top;\n",
       "    }\n",
       "\n",
       "    .dataframe thead th {\n",
       "        text-align: right;\n",
       "    }\n",
       "</style>\n",
       "<table border=\"1\" class=\"dataframe\">\n",
       "  <thead>\n",
       "    <tr style=\"text-align: right;\">\n",
       "      <th></th>\n",
       "      <th>Deal</th>\n",
       "      <th>Cantidad</th>\n",
       "      <th>StartDeliveryDate</th>\n",
       "      <th>EndDeliveryDate</th>\n",
       "      <th>Procedencia TRS</th>\n",
       "    </tr>\n",
       "  </thead>\n",
       "  <tbody>\n",
       "    <tr>\n",
       "      <th>25</th>\n",
       "      <td>39980344</td>\n",
       "      <td>72435.51</td>\n",
       "      <td>2023-10-01T00:00:00+02:00</td>\n",
       "      <td>2026-09-30T00:00:00+02:00</td>\n",
       "      <td>JVLNG_CTV_STOK</td>\n",
       "    </tr>\n",
       "    <tr>\n",
       "      <th>27</th>\n",
       "      <td>39705811</td>\n",
       "      <td>0.00</td>\n",
       "      <td>2024-10-01T00:00:00+02:00</td>\n",
       "      <td>2026-09-30T00:00:00+02:00</td>\n",
       "      <td>JVLNG_CTV_STOK</td>\n",
       "    </tr>\n",
       "    <tr>\n",
       "      <th>30</th>\n",
       "      <td>37761994</td>\n",
       "      <td>0.00</td>\n",
       "      <td>2022-12-31T00:00:00+01:00</td>\n",
       "      <td>2024-12-31T00:00:00+01:00</td>\n",
       "      <td>JVLNG_CTV_STOK</td>\n",
       "    </tr>\n",
       "    <tr>\n",
       "      <th>41</th>\n",
       "      <td>31915597</td>\n",
       "      <td>0.00</td>\n",
       "      <td>2022-03-30T00:00:00+02:00</td>\n",
       "      <td>2023-01-01T00:00:00+01:00</td>\n",
       "      <td>JVLNG_CTV_STOK</td>\n",
       "    </tr>\n",
       "  </tbody>\n",
       "</table>\n",
       "</div>"
      ],
      "text/plain": [
       "        Deal  Cantidad          StartDeliveryDate            EndDeliveryDate  \\\n",
       "25  39980344  72435.51  2023-10-01T00:00:00+02:00  2026-09-30T00:00:00+02:00   \n",
       "27  39705811      0.00  2024-10-01T00:00:00+02:00  2026-09-30T00:00:00+02:00   \n",
       "30  37761994      0.00  2022-12-31T00:00:00+01:00  2024-12-31T00:00:00+01:00   \n",
       "41  31915597      0.00  2022-03-30T00:00:00+02:00  2023-01-01T00:00:00+01:00   \n",
       "\n",
       "   Procedencia TRS  \n",
       "25  JVLNG_CTV_STOK  \n",
       "27  JVLNG_CTV_STOK  \n",
       "30  JVLNG_CTV_STOK  \n",
       "41  JVLNG_CTV_STOK  "
      ]
     },
     "execution_count": 22,
     "metadata": {},
     "output_type": "execute_result"
    }
   ],
   "source": [
    "results_deals = deals[['Id', 'StartDeliveryDate', 'EndDeliveryDate']]\n",
    "results_deals['Cantidad'] = results_deals['Id'].apply(lambda x: agg_flow[x] if x in agg_flow.keys()  else 0.0)\n",
    "results_deals['Procedencia TRS'] = file_names[0]\n",
    "results_deals = results_deals[['Id', 'Cantidad', 'StartDeliveryDate', 'EndDeliveryDate', 'Procedencia TRS']]\n",
    "results_deals = results_deals.rename(columns={'Id':'Deal'})\n",
    "results_deals"
   ]
  },
  {
   "cell_type": "markdown",
   "metadata": {},
   "source": [
    "### 6.2 Matcheo"
   ]
  },
  {
   "cell_type": "code",
   "execution_count": 29,
   "metadata": {},
   "outputs": [],
   "source": [
    "Importe_conciliado = TotalQuantityTRS\n",
    "Importe_no_conciliado = TotalQuantityAGIKEY - Importe_conciliado\n"
   ]
  },
  {
   "cell_type": "markdown",
   "metadata": {},
   "source": [
    "## 7. Output final"
   ]
  },
  {
   "cell_type": "code",
   "execution_count": 30,
   "metadata": {},
   "outputs": [
    {
     "name": "stdout",
     "output_type": "stream",
     "text": [
      "(TVB, Almacenamiento TVB)\n",
      "---> FACTURAS DE AGIKEY <---\n"
     ]
    },
    {
     "data": {
      "text/html": [
       "<div>\n",
       "<style scoped>\n",
       "    .dataframe tbody tr th:only-of-type {\n",
       "        vertical-align: middle;\n",
       "    }\n",
       "\n",
       "    .dataframe tbody tr th {\n",
       "        vertical-align: top;\n",
       "    }\n",
       "\n",
       "    .dataframe thead th {\n",
       "        text-align: right;\n",
       "    }\n",
       "</style>\n",
       "<table border=\"1\" class=\"dataframe\">\n",
       "  <thead>\n",
       "    <tr style=\"text-align: right;\">\n",
       "      <th></th>\n",
       "      <th>NumeroFactura</th>\n",
       "      <th>Importe</th>\n",
       "      <th>FechaFactura</th>\n",
       "    </tr>\n",
       "  </thead>\n",
       "  <tbody>\n",
       "    <tr>\n",
       "      <th>0</th>\n",
       "      <td>2024164592</td>\n",
       "      <td>1375.12</td>\n",
       "      <td>4/3/24</td>\n",
       "    </tr>\n",
       "    <tr>\n",
       "      <th>1</th>\n",
       "      <td>2024164591</td>\n",
       "      <td>1787.43</td>\n",
       "      <td>4/3/24</td>\n",
       "    </tr>\n",
       "    <tr>\n",
       "      <th>2</th>\n",
       "      <td>2024164590</td>\n",
       "      <td>1930.23</td>\n",
       "      <td>4/3/24</td>\n",
       "    </tr>\n",
       "    <tr>\n",
       "      <th>3</th>\n",
       "      <td>2024164589</td>\n",
       "      <td>1472.13</td>\n",
       "      <td>4/3/24</td>\n",
       "    </tr>\n",
       "    <tr>\n",
       "      <th>4</th>\n",
       "      <td>2024164588</td>\n",
       "      <td>1965.66</td>\n",
       "      <td>4/3/24</td>\n",
       "    </tr>\n",
       "    <tr>\n",
       "      <th>5</th>\n",
       "      <td>2024164587</td>\n",
       "      <td>1041.67</td>\n",
       "      <td>4/3/24</td>\n",
       "    </tr>\n",
       "    <tr>\n",
       "      <th>6</th>\n",
       "      <td>2024164586</td>\n",
       "      <td>1030.97</td>\n",
       "      <td>4/3/24</td>\n",
       "    </tr>\n",
       "    <tr>\n",
       "      <th>7</th>\n",
       "      <td>2024164585</td>\n",
       "      <td>1017.59</td>\n",
       "      <td>4/3/24</td>\n",
       "    </tr>\n",
       "    <tr>\n",
       "      <th>8</th>\n",
       "      <td>2024164584</td>\n",
       "      <td>1015.95</td>\n",
       "      <td>4/3/24</td>\n",
       "    </tr>\n",
       "    <tr>\n",
       "      <th>9</th>\n",
       "      <td>2024164583</td>\n",
       "      <td>718.6</td>\n",
       "      <td>4/3/24</td>\n",
       "    </tr>\n",
       "    <tr>\n",
       "      <th>10</th>\n",
       "      <td>2024164582</td>\n",
       "      <td>59080.41</td>\n",
       "      <td>4/3/24</td>\n",
       "    </tr>\n",
       "  </tbody>\n",
       "</table>\n",
       "</div>"
      ],
      "text/plain": [
       "   NumeroFactura   Importe FechaFactura\n",
       "0     2024164592   1375.12       4/3/24\n",
       "1     2024164591   1787.43       4/3/24\n",
       "2     2024164590   1930.23       4/3/24\n",
       "3     2024164589   1472.13       4/3/24\n",
       "4     2024164588   1965.66       4/3/24\n",
       "5     2024164587   1041.67       4/3/24\n",
       "6     2024164586   1030.97       4/3/24\n",
       "7     2024164585   1017.59       4/3/24\n",
       "8     2024164584   1015.95       4/3/24\n",
       "9     2024164583     718.6       4/3/24\n",
       "10    2024164582  59080.41       4/3/24"
      ]
     },
     "execution_count": 30,
     "metadata": {},
     "output_type": "execute_result"
    }
   ],
   "source": [
    "print('('+ origen + ', ' + servicio_facturado +')')\n",
    "print('---> FACTURAS DE AGIKEY <---')\n",
    "facturas[['NumeroFactura','Importe', 'FechaFactura']].reset_index(drop=True)"
   ]
  },
  {
   "cell_type": "code",
   "execution_count": 31,
   "metadata": {},
   "outputs": [
    {
     "name": "stdout",
     "output_type": "stream",
     "text": [
      "---> DEALS TRS <---\n"
     ]
    },
    {
     "data": {
      "text/html": [
       "<div>\n",
       "<style scoped>\n",
       "    .dataframe tbody tr th:only-of-type {\n",
       "        vertical-align: middle;\n",
       "    }\n",
       "\n",
       "    .dataframe tbody tr th {\n",
       "        vertical-align: top;\n",
       "    }\n",
       "\n",
       "    .dataframe thead th {\n",
       "        text-align: right;\n",
       "    }\n",
       "</style>\n",
       "<table border=\"1\" class=\"dataframe\">\n",
       "  <thead>\n",
       "    <tr style=\"text-align: right;\">\n",
       "      <th></th>\n",
       "      <th>Deal</th>\n",
       "      <th>Cantidad</th>\n",
       "      <th>StartDeliveryDate</th>\n",
       "      <th>EndDeliveryDate</th>\n",
       "      <th>Procedencia TRS</th>\n",
       "    </tr>\n",
       "  </thead>\n",
       "  <tbody>\n",
       "    <tr>\n",
       "      <th>25</th>\n",
       "      <td>39980344</td>\n",
       "      <td>72435.51</td>\n",
       "      <td>2023-10-01T00:00:00+02:00</td>\n",
       "      <td>2026-09-30T00:00:00+02:00</td>\n",
       "      <td>JVLNG_CTV_STOK</td>\n",
       "    </tr>\n",
       "    <tr>\n",
       "      <th>27</th>\n",
       "      <td>39705811</td>\n",
       "      <td>0.00</td>\n",
       "      <td>2024-10-01T00:00:00+02:00</td>\n",
       "      <td>2026-09-30T00:00:00+02:00</td>\n",
       "      <td>JVLNG_CTV_STOK</td>\n",
       "    </tr>\n",
       "    <tr>\n",
       "      <th>30</th>\n",
       "      <td>37761994</td>\n",
       "      <td>0.00</td>\n",
       "      <td>2022-12-31T00:00:00+01:00</td>\n",
       "      <td>2024-12-31T00:00:00+01:00</td>\n",
       "      <td>JVLNG_CTV_STOK</td>\n",
       "    </tr>\n",
       "    <tr>\n",
       "      <th>41</th>\n",
       "      <td>31915597</td>\n",
       "      <td>0.00</td>\n",
       "      <td>2022-03-30T00:00:00+02:00</td>\n",
       "      <td>2023-01-01T00:00:00+01:00</td>\n",
       "      <td>JVLNG_CTV_STOK</td>\n",
       "    </tr>\n",
       "  </tbody>\n",
       "</table>\n",
       "</div>"
      ],
      "text/plain": [
       "        Deal  Cantidad          StartDeliveryDate            EndDeliveryDate  \\\n",
       "25  39980344  72435.51  2023-10-01T00:00:00+02:00  2026-09-30T00:00:00+02:00   \n",
       "27  39705811      0.00  2024-10-01T00:00:00+02:00  2026-09-30T00:00:00+02:00   \n",
       "30  37761994      0.00  2022-12-31T00:00:00+01:00  2024-12-31T00:00:00+01:00   \n",
       "41  31915597      0.00  2022-03-30T00:00:00+02:00  2023-01-01T00:00:00+01:00   \n",
       "\n",
       "   Procedencia TRS  \n",
       "25  JVLNG_CTV_STOK  \n",
       "27  JVLNG_CTV_STOK  \n",
       "30  JVLNG_CTV_STOK  \n",
       "41  JVLNG_CTV_STOK  "
      ]
     },
     "execution_count": 31,
     "metadata": {},
     "output_type": "execute_result"
    }
   ],
   "source": [
    "print('---> DEALS TRS <---')\n",
    "results_deals"
   ]
  },
  {
   "cell_type": "code",
   "execution_count": 32,
   "metadata": {},
   "outputs": [
    {
     "name": "stdout",
     "output_type": "stream",
     "text": [
      "Deal 39980344: \n",
      "   SubFlow_Id                       Date  Subcantidad\n",
      "0   101112346  2024-03-20T00:00:00+01:00         0.00\n",
      "1   101112345  2024-03-20T00:00:00+01:00     72435.51\n",
      "Deal 39705811: sin flows asociados para el mes de estudio\n",
      "Deal 37761994: \n",
      "   SubFlow_Id                       Date  Subcantidad\n",
      "0    94022896  2024-03-20T00:00:00+01:00          0.0\n",
      "1    94022897  2024-03-20T00:00:00+01:00          0.0\n",
      "Deal 31915597: sin flows asociados para el mes de estudio\n"
     ]
    }
   ],
   "source": [
    "deal_list = list(results_deals['Deal'].unique())\n",
    "for i in deal_list:\n",
    "    aux_df = flow_df[flow_df['Deal_Id'] == i]\n",
    "    aux_df = aux_df.reset_index(drop=True)\n",
    "    if aux_df.empty:\n",
    "        print('Deal '+ str(i) + ': sin flows asociados para el mes de estudio')\n",
    "    else:\n",
    "        print('Deal ' + str(i) + ': ')    \n",
    "        print(aux_df[['SubFlow_Id','Date','Subcantidad']])"
   ]
  },
  {
   "cell_type": "code",
   "execution_count": 33,
   "metadata": {},
   "outputs": [
    {
     "name": "stdout",
     "output_type": "stream",
     "text": [
      " -----------MATCHEO-------------\n",
      "TotalQuantityAGIKEY: 72435.76000000001 --> Facturación Total\n",
      "TotalQuantityTRS: 72435.51 --> Importe Conciliado\n",
      "TotalQuantityAGIKEY - TotalQuantityTRS: 0.2500000000145519 --> Importe No Conciliado\n"
     ]
    }
   ],
   "source": [
    "print(' -----------MATCHEO-------------')\n",
    "print('TotalQuantityAGIKEY: ' + str(TotalQuantityAGIKEY) + ' --> Facturación Total')\n",
    "print('TotalQuantityTRS: '+ str(TotalQuantityTRS) + ' --> Importe Conciliado')\n",
    "print('TotalQuantityAGIKEY - TotalQuantityTRS: ' + str(TotalQuantityAGIKEY-TotalQuantityTRS) + ' --> Importe No Conciliado')"
   ]
  }
 ],
 "metadata": {
  "kernelspec": {
   "display_name": "Python 3",
   "language": "python",
   "name": "python3"
  },
  "language_info": {
   "codemirror_mode": {
    "name": "ipython",
    "version": 3
   },
   "file_extension": ".py",
   "mimetype": "text/x-python",
   "name": "python",
   "nbconvert_exporter": "python",
   "pygments_lexer": "ipython3",
   "version": "3.12.3"
  }
 },
 "nbformat": 4,
 "nbformat_minor": 2
}
